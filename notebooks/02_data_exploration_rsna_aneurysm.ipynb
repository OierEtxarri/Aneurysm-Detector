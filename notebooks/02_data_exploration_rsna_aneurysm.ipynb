{
 "cells": [
  {
   "cell_type": "markdown",
   "id": "39ceb061",
   "metadata": {},
   "source": [
    "# Data Exploration - RSNA Intracranial Aneurysm Detection\n",
    "\n",
    "This notebook performs an initial exploratory analysis of the Kaggle challenge data for intracranial aneurysm detection."
   ]
  },
  {
   "cell_type": "markdown",
   "id": "1344b927",
   "metadata": {},
   "source": [
    "## 1. Import Libraries\n",
    "Import the necessary libraries for data analysis and visualization."
   ]
  },
  {
   "cell_type": "code",
   "execution_count": null,
   "id": "2aadba4a",
   "metadata": {},
   "outputs": [],
   "source": [
    "import pandas as pd\n",
    "import numpy as np\n",
    "import matplotlib.pyplot as plt\n",
    "import seaborn as sns\n",
    "import os"
   ]
  },
  {
   "cell_type": "markdown",
   "id": "48d5e9e5",
   "metadata": {},
   "source": [
    "## 2. Load and Display Metadata\n",
    "Load the metadata CSV files and display their structure."
   ]
  },
  {
   "cell_type": "code",
   "execution_count": null,
   "id": "914cc798",
   "metadata": {},
   "outputs": [],
   "source": [
    "# File paths (adjust according to your download)\n",
    "train_csv = '../data/train.csv'\n",
    "test_csv = '../data/test.csv'\n",
    "\n",
    "# Load metadata\n",
    "train_df = pd.read_csv(train_csv)\n",
    "test_df = pd.read_csv(test_csv)\n",
    "\n",
    "# Show structure\n",
    "print('Train shape:', train_df.shape)\n",
    "print('Test shape:', test_df.shape)\n",
    "display(train_df.head())"
   ]
  },
  {
   "cell_type": "markdown",
   "id": "684a4cfb",
   "metadata": {},
   "source": [
    "## 3. Target Variable Analysis\n",
    "Visualize the distribution of the target variable (aneurysm presence) in the training set."
   ]
  },
  {
   "cell_type": "code",
   "execution_count": null,
   "id": "a158caa9",
   "metadata": {},
   "outputs": [],
   "source": [
    "# Assuming the target column is named 'any_aneurysm'\n",
    "if 'any_aneurysm' in train_df.columns:\n",
    "    plt.figure(figsize=(6,4))\n",
    "    sns.countplot(x='any_aneurysm', data=train_df)\n",
    "    plt.title('Target Variable Distribution')\n",
    "    plt.show()\n",
    "    print(train_df['any_aneurysm'].value_counts(normalize=True))\n",
    "else:\n",
    "    print('Column any_aneurysm not found in the dataset.')"
   ]
  },
  {
   "cell_type": "markdown",
   "id": "e676658d",
   "metadata": {},
   "source": [
    "## 4. Medical Image Exploration\n",
    "Visualize examples of DICOM images and analyze their basic properties."
   ]
  },
  {
   "cell_type": "code",
   "execution_count": null,
   "id": "9bb81bee",
   "metadata": {},
   "outputs": [],
   "source": [
    "import pydicom\n",
    "import cv2\n",
    "\n",
    "# Example path to a DICOM image (adjust according to your structure)\n",
    "dicom_dir = '../data/train_images/'\n",
    "example_study = train_df.iloc[0]['ID'] if 'ID' in train_df.columns else None\n",
    "\n",
    "if example_study:\n",
    "    study_path = os.path.join(dicom_dir, str(example_study))\n",
    "    if os.path.exists(study_path):\n",
    "        dicom_files = [f for f in os.listdir(study_path) if f.endswith('.dcm')]\n",
    "        if dicom_files:\n",
    "            dicom_file = os.path.join(study_path, dicom_files[0])\n",
    "            ds = pydicom.dcmread(dicom_file)\n",
    "            img = ds.pixel_array\n",
    "            plt.imshow(img, cmap='gray')\n",
    "            plt.title(f'DICOM Image - {dicom_files[0]}')\n",
    "            plt.axis('off')\n",
    "            plt.show()\n",
    "            print('Shape:', img.shape)\n",
    "            print('DICOM info:', ds)\n",
    "        else:\n",
    "            print('No DICOM files found in the study.')\n",
    "    else:\n",
    "        print('Study folder not found.')\n",
    "else:\n",
    "    print('Study ID not found in the dataset.')"
   ]
  }
 ],
 "metadata": {
  "language_info": {
   "name": "python"
  }
 },
 "nbformat": 4,
 "nbformat_minor": 5
}
