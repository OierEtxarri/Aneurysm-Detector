{
 "cells": [
  {
   "cell_type": "markdown",
   "id": "e170e82a",
   "metadata": {},
   "source": [
    "# Exploración de datos - RSNA Intracranial Aneurysm Detection\n",
    "\n",
    "Este notebook realiza un análisis exploratorio inicial de los datos del reto Kaggle para detección de aneurismas intracraneales."
   ]
  },
  {
   "cell_type": "markdown",
   "id": "0ac543e2",
   "metadata": {},
   "source": [
    "## 1. Importar librerías\n",
    "Importar las librerías necesarias para análisis de datos y visualización."
   ]
  },
  {
   "cell_type": "code",
   "execution_count": null,
   "id": "fc331481",
   "metadata": {},
   "outputs": [],
   "source": [
    "import pandas as pd\n",
    "import numpy as np\n",
    "import matplotlib.pyplot as plt\n",
    "import seaborn as sns\n",
    "import os"
   ]
  },
  {
   "cell_type": "markdown",
   "id": "ab1f1842",
   "metadata": {},
   "source": [
    "## 2. Cargar y mostrar metadatos\n",
    "Cargar los archivos CSV de metadatos y mostrar su estructura."
   ]
  },
  {
   "cell_type": "code",
   "execution_count": null,
   "id": "baa9c928",
   "metadata": {},
   "outputs": [],
   "source": [
    "# Ruta de los archivos (ajusta según tu descarga)\n",
    "train_csv = '../data/train.csv'\n",
    "test_csv = '../data/test.csv'\n",
    "\n",
    "# Cargar metadatos\n",
    "train_df = pd.read_csv(train_csv)\n",
    "test_df = pd.read_csv(test_csv)\n",
    "\n",
    "# Mostrar estructura\n",
    "print('Train shape:', train_df.shape)\n",
    "print('Test shape:', test_df.shape)\n",
    "display(train_df.head())"
   ]
  },
  {
   "cell_type": "markdown",
   "id": "3555189e",
   "metadata": {},
   "source": [
    "## 3. Análisis de la variable objetivo\n",
    "Visualizar la distribución de la variable objetivo (presencia de aneurisma) en el conjunto de entrenamiento."
   ]
  },
  {
   "cell_type": "code",
   "execution_count": null,
   "id": "8032a1b1",
   "metadata": {},
   "outputs": [],
   "source": [
    "# Asumiendo que la columna objetivo se llama 'any_aneurysm'\n",
    "if 'any_aneurysm' in train_df.columns:\n",
    "    plt.figure(figsize=(6,4))\n",
    "    sns.countplot(x='any_aneurysm', data=train_df)\n",
    "    plt.title('Distribución de la variable objetivo')\n",
    "    plt.show()\n",
    "    print(train_df['any_aneurysm'].value_counts(normalize=True))\n",
    "else:\n",
    "    print('No se encontró la columna any_aneurysm en el dataset.')"
   ]
  },
  {
   "cell_type": "markdown",
   "id": "d0b688ce",
   "metadata": {},
   "source": [
    "## 4. Exploración de imágenes médicas\n",
    "Visualizar ejemplos de imágenes DICOM y analizar sus propiedades básicas."
   ]
  },
  {
   "cell_type": "code",
   "execution_count": null,
   "id": "5ee40782",
   "metadata": {},
   "outputs": [],
   "source": [
    "import pydicom\n",
    "import cv2\n",
    "\n",
    "# Ejemplo de ruta a una imagen DICOM (ajusta según tu estructura)\n",
    "dicom_dir = '../data/train_images/'\n",
    "example_study = train_df.iloc[0]['ID'] if 'ID' in train_df.columns else None\n",
    "\n",
    "if example_study:\n",
    "    study_path = os.path.join(dicom_dir, str(example_study))\n",
    "    if os.path.exists(study_path):\n",
    "        dicom_files = [f for f in os.listdir(study_path) if f.endswith('.dcm')]\n",
    "        if dicom_files:\n",
    "            dicom_file = os.path.join(study_path, dicom_files[0])\n",
    "            ds = pydicom.dcmread(dicom_file)\n",
    "            img = ds.pixel_array\n",
    "            plt.imshow(img, cmap='gray')\n",
    "            plt.title(f'Imagen DICOM - {dicom_files[0]}')\n",
    "            plt.axis('off')\n",
    "            plt.show()\n",
    "            print('Shape:', img.shape)\n",
    "            print('DICOM info:', ds)\n",
    "        else:\n",
    "            print('No se encontraron archivos DICOM en el estudio.')\n",
    "    else:\n",
    "        print('No se encontró la carpeta del estudio.')\n",
    "else:\n",
    "    print('No se encontró el ID del estudio en el dataset.')"
   ]
  }
 ],
 "metadata": {
  "language_info": {
   "name": "python"
  }
 },
 "nbformat": 4,
 "nbformat_minor": 5
}
