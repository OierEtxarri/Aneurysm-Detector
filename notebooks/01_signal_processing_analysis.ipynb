{
 "cells": [
  {
   "cell_type": "markdown",
   "id": "5daf9e96",
   "metadata": {},
   "source": [
    "# Signal Processing and Analysis with Python\n",
    "This notebook shows basic examples of signal processing and analysis using Python, NumPy, SciPy, and Matplotlib."
   ]
  },
  {
   "cell_type": "markdown",
   "id": "3d6d927b",
   "metadata": {},
   "source": [
    "## 1. Import Required Libraries\n",
    "Import necessary libraries such as NumPy, SciPy, and Matplotlib for signal processing and visualization."
   ]
  },
  {
   "cell_type": "code",
   "execution_count": null,
   "id": "2acfb3c8",
   "metadata": {},
   "outputs": [],
   "source": [
    "import numpy as np\n",
    "import matplotlib.pyplot as plt\n",
    "from scipy import signal, fftpack"
   ]
  },
  {
   "cell_type": "markdown",
   "id": "f370cc7e",
   "metadata": {},
   "source": [
    "## 2. Basic Signal Generation\n",
    "Generate simple signals such as sine waves, square waves, and composite signals using NumPy."
   ]
  },
  {
   "cell_type": "code",
   "execution_count": null,
   "id": "ea78e0ca",
   "metadata": {},
   "outputs": [],
   "source": [
    "# Parámetros de la señal\n",
    "t = np.linspace(0, 1, 1000)\n",
    "freq = 5  # Hz\n",
    "\n",
    "# Onda seno\n",
    "sine_wave = np.sin(2 * np.pi * freq * t)\n",
    "# Onda cuadrada\n",
    "square_wave = signal.square(2 * np.pi * freq * t)\n",
    "# Señal compuesta\n",
    "composite_wave = sine_wave + 0.5 * np.sin(2 * np.pi * 2 * freq * t)"
   ]
  },
  {
   "cell_type": "markdown",
   "id": "0688abff",
   "metadata": {},
   "source": [
    "## 3. Signal Visualization\n",
    "Plot the generated signals using Matplotlib to visualize their shapes and properties."
   ]
  },
  {
   "cell_type": "code",
   "execution_count": null,
   "id": "98beb686",
   "metadata": {},
   "outputs": [],
   "source": [
    "plt.figure(figsize=(12, 8))\n",
    "plt.subplot(3, 1, 1)\n",
    "plt.plot(t, sine_wave)\n",
    "plt.title('Sine Wave')\n",
    "plt.subplot(3, 1, 2)\n",
    "plt.plot(t, square_wave)\n",
    "plt.title('Square Wave')\n",
    "plt.subplot(3, 1, 3)\n",
    "plt.plot(t, composite_wave)\n",
    "plt.title('Composite Wave')\n",
    "plt.tight_layout()\n",
    "plt.show()"
   ]
  },
  {
   "cell_type": "markdown",
   "id": "00662382",
   "metadata": {},
   "source": [
    "## 4. Signal Processing Operations\n",
    "Apply basic signal processing techniques such as filtering, Fourier Transform, and noise addition/removal."
   ]
  },
  {
   "cell_type": "code",
   "execution_count": null,
   "id": "1f2853fd",
   "metadata": {},
   "outputs": [],
   "source": [
    "# Añadir ruido a la señal compuesta\n",
    "noisy_signal = composite_wave + 0.3 * np.random.normal(size=t.shape)\n",
    "\n",
    "# Filtrado pasa bajos\n",
    "b, a = signal.butter(4, 0.1)\n",
    "filtered_signal = signal.filtfilt(b, a, noisy_signal)\n",
    "\n",
    "# Transformada de Fourier\n",
    "fft_vals = fftpack.fft(composite_wave)\n",
    "fft_freq = fftpack.fftfreq(len(composite_wave), d=t[1]-t[0])"
   ]
  },
  {
   "cell_type": "markdown",
   "id": "36e4d4df",
   "metadata": {},
   "source": [
    "## 5. Signal Analysis\n",
    "Analyze signals by computing properties like frequency spectrum, amplitude, and phase using SciPy and NumPy."
   ]
  },
  {
   "cell_type": "code",
   "execution_count": null,
   "id": "f5e7f206",
   "metadata": {},
   "outputs": [],
   "source": [
    "plt.figure(figsize=(12, 6))\n",
    "plt.plot(fft_freq, np.abs(fft_vals))\n",
    "plt.title('Frequency Spectrum of Composite Wave')\n",
    "plt.xlabel('Frequency [Hz]')\n",
    "plt.ylabel('Amplitude')\n",
    "plt.xlim(0, 20)\n",
    "plt.show()\n",
    "\n",
    "# Mostrar propiedades básicas\n",
    "def signal_properties(signal):\n",
    "    print(f\"Mean: {np.mean(signal):.3f}\")\n",
    "    print(f\"Std: {np.std(signal):.3f}\")\n",
    "    print(f\"Max: {np.max(signal):.3f}\")\n",
    "    print(f\"Min: {np.min(signal):.3f}\")\n",
    "\n",
    "print('Composite Wave Properties:')\n",
    "signal_properties(composite_wave)\n",
    "print('\\nFiltered Signal Properties:')\n",
    "signal_properties(filtered_signal)"
   ]
  }
 ],
 "metadata": {
  "language_info": {
   "name": "python"
  }
 },
 "nbformat": 4,
 "nbformat_minor": 5
}
